{
 "cells": [
  {
   "cell_type": "code",
   "execution_count": 10,
   "metadata": {
    "collapsed": true
   },
   "outputs": [],
   "source": [
    "import nltk.classify.util\n",
    "from nltk.classify import NaiveBayesClassifier\n",
    "from nltk.corpus import movie_reviews\n",
    "from nltk.corpus import stopwords\n",
    "from nltk.tokenize import word_tokenize\n",
    "import os\n",
    "import random"
   ]
  },
  {
   "cell_type": "markdown",
   "metadata": {},
   "source": [
    "Get Data set from here: http://www.aueb.gr/users/ion/data/enron-spam/"
   ]
  },
  {
   "cell_type": "code",
   "execution_count": 3,
   "metadata": {
    "collapsed": true
   },
   "outputs": [],
   "source": [
    "rootdir = \"C:\\\\Users\\\\Shantnu\\\\Desktop\\\\Data Sources\\\\Enron Spam\""
   ]
  },
  {
   "cell_type": "code",
   "execution_count": 4,
   "metadata": {
    "collapsed": false
   },
   "outputs": [
    {
     "name": "stdout",
     "output_type": "stream",
     "text": [
      "C:\\Users\\Shantnu\\Desktop\\Data Sources\\Enron Spam ['enron1', 'enron2', 'enron3', 'enron4', 'enron5', 'enron6'] 0\n",
      "C:\\Users\\Shantnu\\Desktop\\Data Sources\\Enron Spam\\enron1 ['ham', 'spam'] 1\n",
      "C:\\Users\\Shantnu\\Desktop\\Data Sources\\Enron Spam\\enron1\\ham [] 3672\n",
      "C:\\Users\\Shantnu\\Desktop\\Data Sources\\Enron Spam\\enron1\\spam [] 1500\n",
      "C:\\Users\\Shantnu\\Desktop\\Data Sources\\Enron Spam\\enron2 ['ham', 'spam'] 1\n",
      "C:\\Users\\Shantnu\\Desktop\\Data Sources\\Enron Spam\\enron2\\ham [] 4361\n",
      "C:\\Users\\Shantnu\\Desktop\\Data Sources\\Enron Spam\\enron2\\spam [] 1496\n",
      "C:\\Users\\Shantnu\\Desktop\\Data Sources\\Enron Spam\\enron3 ['ham', 'spam'] 1\n",
      "C:\\Users\\Shantnu\\Desktop\\Data Sources\\Enron Spam\\enron3\\ham [] 4012\n",
      "C:\\Users\\Shantnu\\Desktop\\Data Sources\\Enron Spam\\enron3\\spam [] 1500\n",
      "C:\\Users\\Shantnu\\Desktop\\Data Sources\\Enron Spam\\enron4 ['ham', 'spam'] 1\n",
      "C:\\Users\\Shantnu\\Desktop\\Data Sources\\Enron Spam\\enron4\\ham [] 1500\n",
      "C:\\Users\\Shantnu\\Desktop\\Data Sources\\Enron Spam\\enron4\\spam [] 4500\n",
      "C:\\Users\\Shantnu\\Desktop\\Data Sources\\Enron Spam\\enron5 ['ham', 'spam'] 1\n",
      "C:\\Users\\Shantnu\\Desktop\\Data Sources\\Enron Spam\\enron5\\ham [] 1500\n",
      "C:\\Users\\Shantnu\\Desktop\\Data Sources\\Enron Spam\\enron5\\spam [] 3675\n",
      "C:\\Users\\Shantnu\\Desktop\\Data Sources\\Enron Spam\\enron6 ['ham', 'spam'] 1\n",
      "C:\\Users\\Shantnu\\Desktop\\Data Sources\\Enron Spam\\enron6\\ham [] 1500\n",
      "C:\\Users\\Shantnu\\Desktop\\Data Sources\\Enron Spam\\enron6\\spam [] 4500\n"
     ]
    }
   ],
   "source": [
    "# Loop through all the directories, sub directories and files in the above folder, and print them.\n",
    "\n",
    "# For files, print number of files.\n"
   ]
  },
  {
   "cell_type": "code",
   "execution_count": 6,
   "metadata": {
    "collapsed": false
   },
   "outputs": [
    {
     "data": {
      "text/plain": [
       "('C:\\\\Users\\\\Shantnu\\\\Desktop\\\\Data Sources\\\\Enron Spam\\\\enron1', 'ham')"
      ]
     },
     "execution_count": 6,
     "metadata": {},
     "output_type": "execute_result"
    }
   ],
   "source": [
    "os.path.split(\"C:\\\\Users\\\\Shantnu\\\\Desktop\\\\Data Sources\\\\Enron Spam\\\\enron1\\\\ham\")"
   ]
  },
  {
   "cell_type": "code",
   "execution_count": 7,
   "metadata": {
    "collapsed": false
   },
   "outputs": [
    {
     "name": "stdout",
     "output_type": "stream",
     "text": [
      "C:\\Users\\Shantnu\\Desktop\\Data Sources\\Enron Spam\\enron1\\ham [] 3672\n",
      "C:\\Users\\Shantnu\\Desktop\\Data Sources\\Enron Spam\\enron1\\spam [] 1500\n",
      "C:\\Users\\Shantnu\\Desktop\\Data Sources\\Enron Spam\\enron2\\ham [] 4361\n",
      "C:\\Users\\Shantnu\\Desktop\\Data Sources\\Enron Spam\\enron2\\spam [] 1496\n",
      "C:\\Users\\Shantnu\\Desktop\\Data Sources\\Enron Spam\\enron3\\ham [] 4012\n",
      "C:\\Users\\Shantnu\\Desktop\\Data Sources\\Enron Spam\\enron3\\spam [] 1500\n",
      "C:\\Users\\Shantnu\\Desktop\\Data Sources\\Enron Spam\\enron4\\ham [] 1500\n",
      "C:\\Users\\Shantnu\\Desktop\\Data Sources\\Enron Spam\\enron4\\spam [] 4500\n",
      "C:\\Users\\Shantnu\\Desktop\\Data Sources\\Enron Spam\\enron5\\ham [] 1500\n",
      "C:\\Users\\Shantnu\\Desktop\\Data Sources\\Enron Spam\\enron5\\spam [] 3675\n",
      "C:\\Users\\Shantnu\\Desktop\\Data Sources\\Enron Spam\\enron6\\ham [] 1500\n",
      "C:\\Users\\Shantnu\\Desktop\\Data Sources\\Enron Spam\\enron6\\spam [] 4500\n"
     ]
    }
   ],
   "source": [
    "# Same as before, but only print the ham and spam folders\n",
    "\n"
   ]
  },
  {
   "cell_type": "code",
   "execution_count": 8,
   "metadata": {
    "collapsed": false
   },
   "outputs": [
    {
     "name": "stdout",
     "output_type": "stream",
     "text": [
      "Subject: christmas tree farm pictures\n",
      "\n",
      "Subject: dobmeos with hgh my energy level has gone up ! stukm\n",
      "introducing\n",
      "doctor - formulated\n",
      "hgh\n",
      "human growth hormone - also called hgh\n",
      "is referred to in medical science as the master hormone . it is very plentiful\n",
      "when we are young , but near the age of twenty - one our bodies begin to produce\n",
      "less of it . by the time we are forty nearly everyone is deficient in hgh ,\n",
      "and at eighty our production has normally diminished at least 90 - 95 % .\n",
      "advantages of hgh :\n",
      "- increased muscle strength\n",
      "- loss in body fat\n",
      "- increased bone density\n",
      "- lower blood pressure\n",
      "- quickens wound healing\n",
      "- reduces cellulite\n",
      "- improved vision\n",
      "- wrinkle disappearance\n",
      "- increased skin thickness texture\n",
      "- increased energy levels\n",
      "- improved sleep and emotional stability\n",
      "- improved memory and mental alertness\n",
      "- increased sexual potency\n",
      "- resistance to common illness\n",
      "- strengthened heart muscle\n",
      "- controlled cholesterol\n",
      "- controlled mood swings\n",
      "- new hair growth and color restore\n",
      "read\n",
      "more at this website\n",
      "unsubscribe\n",
      "\n"
     ]
    }
   ],
   "source": [
    "ham_list = []\n",
    "spam_list = []\n",
    "\n",
    "# Same as before, but this time, read the files, and append them to the ham and spam list\n",
    "\n",
    "# You WILL get a Unicode error for the spam part- either Google it, or look at my solution\n",
    "\n",
    "print(ham_list[0])\n",
    "print(spam_list[0])"
   ]
  },
  {
   "cell_type": "code",
   "execution_count": 11,
   "metadata": {
    "collapsed": false
   },
   "outputs": [
    {
     "data": {
      "text/plain": [
       "{'a': True, 'brown': True, 'fox': True, 'quick': True, 'the': True}"
      ]
     },
     "execution_count": 11,
     "metadata": {},
     "output_type": "execute_result"
    }
   ],
   "source": [
    "# Write a function , that when passed in words, will return a dictionary of the form\n",
    "\n",
    "# {Word1: True, Word2: True, Words3: True}\n",
    "\n",
    "# Removing stop words is optional\n",
    "\n",
    "def create_word_features(words):\n",
    "    pass\n",
    "\n",
    "create_word_features([\"the\", \"quick\", \"brown\", \"quick\", \"a\", \"fox\"])"
   ]
  },
  {
   "cell_type": "code",
   "execution_count": null,
   "metadata": {
    "collapsed": false
   },
   "outputs": [],
   "source": [
    "ham_list = []\n",
    "spam_list = []\n",
    "\n",
    "# Same as before, but this time:\n",
    "\n",
    "# 1. Break the sentences into words using word_tokenize\n",
    "# 2. Use the create_word_features() function you just wrote\n",
    "\n",
    "print(ham_list[0])\n",
    "print(spam_list[0])"
   ]
  },
  {
   "cell_type": "code",
   "execution_count": null,
   "metadata": {
    "collapsed": true
   },
   "outputs": [],
   "source": [
    "combined_list = ham_list + spam_list\n",
    "\n",
    "random.shuffle(combined_list)"
   ]
  },
  {
   "cell_type": "code",
   "execution_count": null,
   "metadata": {
    "collapsed": true
   },
   "outputs": [],
   "source": [
    "# Create a test and train section.\n",
    "\n",
    "# 70% of the data is training. 30% is test"
   ]
  },
  {
   "cell_type": "code",
   "execution_count": null,
   "metadata": {
    "collapsed": true
   },
   "outputs": [],
   "source": [
    "# Create the Naive Bayes filter\n",
    "\n",
    "# Find the accuracy, using the test data\n",
    "\n",
    "print(\"Accuracy is: \", accuracy * 100)"
   ]
  },
  {
   "cell_type": "code",
   "execution_count": null,
   "metadata": {
    "collapsed": true
   },
   "outputs": [],
   "source": [
    "classifier.show_most_informative_features(20)"
   ]
  },
  {
   "cell_type": "code",
   "execution_count": null,
   "metadata": {
    "collapsed": true
   },
   "outputs": [],
   "source": [
    "# Clasify the below as spam or ham\n",
    "\n",
    "# Hint: 1. Break into words using word_tokenzise\n",
    "# 2. create_word_features\n",
    "# 3. Use the classify function\n",
    "\n",
    "msg1 = '''Hello th̓ere seُx master :-)\n",
    "i need c0ck ri͏ght noِw ..͏. don't tell my hǔbbٚy.ٚ. ))\n",
    "My sc͕rٞeٚe̻nname is Dorry.\n",
    "My accֺo֔unt is h֯ere: http:nxusxbnd.GirlsBadoo.ru\n",
    "C u late٘r!'''\n",
    "\n",
    "\n",
    "msg2 = '''As one of our top customers we are providing 10% OFF the total of your next used book purchase from www.letthestoriesliveon.com. Please use the promotional code, TOPTENOFF at checkout. Limited to 1 use per customer. All books have free shipping within the contiguous 48 United States and there is no minimum purchase.\n",
    "\n",
    "We have millions of used books in stock that are up to 90% off MRSP and add tens of thousands of new items every day. Don’t forget to check back frequently for new arrivals.'''\n",
    "\n",
    "\n",
    "\n",
    "msg3 = '''To start off, I have a 6 new videos + transcripts in the members section. In it, we analyse the Enron email dataset, half a million files, spread over 2.5GB. It's about 1.5 hours of  video.\n",
    "\n",
    "I have also created a Conda environment for running the code (both free and member lessons). This is to ensure everyone is running the same version of libraries, preventing the Works on my machine problems. If you get a second, do you mind trying it here?'''\n",
    "\n",
    "\n"
   ]
  }
 ],
 "metadata": {
  "kernelspec": {
   "display_name": "Python 3",
   "language": "python",
   "name": "python3"
  },
  "language_info": {
   "codemirror_mode": {
    "name": "ipython",
    "version": 3
   },
   "file_extension": ".py",
   "mimetype": "text/x-python",
   "name": "python",
   "nbconvert_exporter": "python",
   "pygments_lexer": "ipython3",
   "version": "3.4.3"
  }
 },
 "nbformat": 4,
 "nbformat_minor": 0
}
